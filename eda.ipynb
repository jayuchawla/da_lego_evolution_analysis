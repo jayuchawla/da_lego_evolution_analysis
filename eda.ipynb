{
 "cells": [
  {
   "cell_type": "code",
   "execution_count": 52,
   "metadata": {},
   "outputs": [],
   "source": [
    "import pandas as pd\n",
    "import matplotlib.pyplot as plt"
   ]
  },
  {
   "cell_type": "code",
   "execution_count": 40,
   "metadata": {},
   "outputs": [],
   "source": [
    "# import datasets\n",
    "lego_sets, parent_themes = pd.read_csv('data/lego_sets.csv'), pd.read_csv('data/parent_theme.csv')"
   ]
  },
  {
   "cell_type": "markdown",
   "metadata": {},
   "source": [
    "Understanding datasets"
   ]
  },
  {
   "cell_type": "code",
   "execution_count": 41,
   "metadata": {},
   "outputs": [
    {
     "name": "stdout",
     "output_type": "stream",
     "text": [
      "  set_num                        name  year  num_parts    theme_name  \\\n",
      "0    00-1             Weetabix Castle  1970      471.0        Castle   \n",
      "1  0011-2           Town Mini-Figures  1978        NaN  Supplemental   \n",
      "2  0011-3  Castle 2 for 1 Bonus Offer  1987        NaN  Lion Knights   \n",
      "3  0012-1          Space Mini-Figures  1979       12.0  Supplemental   \n",
      "4  0013-1          Space Mini-Figures  1979       12.0  Supplemental   \n",
      "\n",
      "  parent_theme  \n",
      "0     Legoland  \n",
      "1         Town  \n",
      "2       Castle  \n",
      "3        Space  \n",
      "4        Space  \n",
      "**********\n",
      "(11986, 6)\n",
      "**********\n",
      "Index(['set_num', 'name', 'year', 'num_parts', 'theme_name', 'parent_theme'], dtype='object')\n",
      "**********\n",
      "<class 'pandas.core.frame.DataFrame'>\n",
      "RangeIndex: 11986 entries, 0 to 11985\n",
      "Data columns (total 6 columns):\n",
      " #   Column        Non-Null Count  Dtype  \n",
      "---  ------        --------------  -----  \n",
      " 0   set_num       11833 non-null  object \n",
      " 1   name          11833 non-null  object \n",
      " 2   year          11986 non-null  int64  \n",
      " 3   num_parts     6926 non-null   float64\n",
      " 4   theme_name    11833 non-null  object \n",
      " 5   parent_theme  11986 non-null  object \n",
      "dtypes: float64(1), int64(1), object(4)\n",
      "memory usage: 562.0+ KB\n",
      "None\n",
      "**********\n",
      "               year    num_parts\n",
      "count  11986.000000  6926.000000\n",
      "mean    2002.304772   163.782558\n",
      "std       13.471680   334.206873\n",
      "min     1950.000000    -1.000000\n",
      "25%     1997.000000    10.250000\n",
      "50%     2006.000000    46.000000\n",
      "75%     2013.000000   173.000000\n",
      "max     2017.000000  5922.000000\n",
      "**********\n",
      "set_num          153\n",
      "name             153\n",
      "year               0\n",
      "num_parts       5060\n",
      "theme_name       153\n",
      "parent_theme       0\n",
      "dtype: int64\n",
      "**********\n"
     ]
    }
   ],
   "source": [
    "print(str(lego_sets.head()) + '\\n{}'.format('*'*10))\n",
    "print(str(lego_sets.shape) + '\\n{}'.format('*'*10))\n",
    "print(str(lego_sets.columns) + '\\n{}'.format('*'*10))\n",
    "print(str(lego_sets.info()) + '\\n{}'.format('*'*10))\n",
    "print(str(lego_sets.describe()) + '\\n{}'.format('*'*10))\n",
    "print(str(lego_sets.isnull().sum()) + '\\n{}'.format('*'*10))\n"
   ]
  },
  {
   "cell_type": "code",
   "execution_count": 42,
   "metadata": {},
   "outputs": [
    {
     "name": "stdout",
     "output_type": "stream",
     "text": [
      "    id     name  is_licensed\n",
      "0    1  Technic        False\n",
      "1   22  Creator        False\n",
      "2   50     Town        False\n",
      "3  112   Racers        False\n",
      "4  126    Space        False\n",
      "**********\n",
      "(111, 3)\n",
      "**********\n",
      "Index(['id', 'name', 'is_licensed'], dtype='object')\n",
      "**********\n",
      "<class 'pandas.core.frame.DataFrame'>\n",
      "RangeIndex: 111 entries, 0 to 110\n",
      "Data columns (total 3 columns):\n",
      " #   Column       Non-Null Count  Dtype \n",
      "---  ------       --------------  ----- \n",
      " 0   id           111 non-null    int64 \n",
      " 1   name         111 non-null    object\n",
      " 2   is_licensed  111 non-null    bool  \n",
      "dtypes: bool(1), int64(1), object(1)\n",
      "memory usage: 2.0+ KB\n",
      "None\n",
      "**********\n",
      "               id\n",
      "count  111.000000\n",
      "mean   405.270270\n",
      "std    145.444394\n",
      "min      1.000000\n",
      "25%    298.500000\n",
      "50%    411.000000\n",
      "75%    505.500000\n",
      "max    610.000000\n",
      "**********\n",
      "id             0\n",
      "name           0\n",
      "is_licensed    0\n",
      "dtype: int64\n",
      "**********\n"
     ]
    }
   ],
   "source": [
    "print(str(parent_themes.head()) + '\\n{}'.format('*'*10))\n",
    "print(str(parent_themes.shape) + '\\n{}'.format('*'*10))\n",
    "print(str(parent_themes.columns) + '\\n{}'.format('*'*10))\n",
    "print(str(parent_themes.info()) + '\\n{}'.format('*'*10))\n",
    "print(str(parent_themes.describe()) + '\\n{}'.format('*'*10))\n",
    "print(str(parent_themes.isnull().sum()) + '\\n{}'.format('*'*10))"
   ]
  },
  {
   "cell_type": "code",
   "execution_count": 43,
   "metadata": {},
   "outputs": [
    {
     "name": "stdout",
     "output_type": "stream",
     "text": [
      "      set_num name  year  num_parts theme_name     parent_theme\n",
      "11833     NaN  NaN  2017      347.0        NaN  Disney Princess\n",
      "11834     NaN  NaN  2016       70.0        NaN  Disney Princess\n",
      "11835     NaN  NaN  2016        NaN        NaN  Disney Princess\n",
      "11836     NaN  NaN  2017      304.0        NaN     Super Heroes\n",
      "11837     NaN  NaN  2017      196.0        NaN     Super Heroes\n",
      "...       ...  ...   ...        ...        ...              ...\n",
      "11981     NaN  NaN  2014        NaN        NaN        Minecraft\n",
      "11982     NaN  NaN  2006        NaN        NaN     Super Heroes\n",
      "11983     NaN  NaN  2017        NaN        NaN        Minecraft\n",
      "11984     NaN  NaN  2017        8.0        NaN     Super Heroes\n",
      "11985     NaN  NaN  2003        NaN        NaN     Harry Potter\n",
      "\n",
      "[153 rows x 6 columns]\n"
     ]
    }
   ],
   "source": [
    "print(lego_sets[(lego_sets['set_num'].isnull())])"
   ]
  },
  {
   "cell_type": "code",
   "execution_count": 44,
   "metadata": {},
   "outputs": [
    {
     "name": "stdout",
     "output_type": "stream",
     "text": [
      "      set_num name  year  num_parts theme_name     parent_theme\n",
      "11833     NaN  NaN  2017      347.0        NaN  Disney Princess\n",
      "11834     NaN  NaN  2016       70.0        NaN  Disney Princess\n",
      "11835     NaN  NaN  2016        NaN        NaN  Disney Princess\n",
      "11836     NaN  NaN  2017      304.0        NaN     Super Heroes\n",
      "11837     NaN  NaN  2017      196.0        NaN     Super Heroes\n",
      "...       ...  ...   ...        ...        ...              ...\n",
      "11981     NaN  NaN  2014        NaN        NaN        Minecraft\n",
      "11982     NaN  NaN  2006        NaN        NaN     Super Heroes\n",
      "11983     NaN  NaN  2017        NaN        NaN        Minecraft\n",
      "11984     NaN  NaN  2017        8.0        NaN     Super Heroes\n",
      "11985     NaN  NaN  2003        NaN        NaN     Harry Potter\n",
      "\n",
      "[153 rows x 6 columns]\n"
     ]
    }
   ],
   "source": [
    "print(lego_sets[(lego_sets['name'].isnull())])"
   ]
  },
  {
   "cell_type": "code",
   "execution_count": 45,
   "metadata": {},
   "outputs": [
    {
     "name": "stdout",
     "output_type": "stream",
     "text": [
      "      set_num name  year  num_parts theme_name     parent_theme\n",
      "11833     NaN  NaN  2017      347.0        NaN  Disney Princess\n",
      "11834     NaN  NaN  2016       70.0        NaN  Disney Princess\n",
      "11835     NaN  NaN  2016        NaN        NaN  Disney Princess\n",
      "11836     NaN  NaN  2017      304.0        NaN     Super Heroes\n",
      "11837     NaN  NaN  2017      196.0        NaN     Super Heroes\n",
      "...       ...  ...   ...        ...        ...              ...\n",
      "11981     NaN  NaN  2014        NaN        NaN        Minecraft\n",
      "11982     NaN  NaN  2006        NaN        NaN     Super Heroes\n",
      "11983     NaN  NaN  2017        NaN        NaN        Minecraft\n",
      "11984     NaN  NaN  2017        8.0        NaN     Super Heroes\n",
      "11985     NaN  NaN  2003        NaN        NaN     Harry Potter\n",
      "\n",
      "[153 rows x 6 columns]\n"
     ]
    }
   ],
   "source": [
    "# lets see their intersection\n",
    "print(lego_sets[(lego_sets['set_num'].isnull()) & (lego_sets['name'].isnull())])"
   ]
  },
  {
   "cell_type": "code",
   "execution_count": 46,
   "metadata": {},
   "outputs": [
    {
     "data": {
      "text/plain": [
       "set_num            0\n",
       "name               0\n",
       "year               0\n",
       "num_parts       4998\n",
       "theme_name         0\n",
       "parent_theme       0\n",
       "dtype: int64"
      ]
     },
     "execution_count": 46,
     "metadata": {},
     "output_type": "execute_result"
    }
   ],
   "source": [
    "# it is true that for all null values of set_num name is also null, ignoring these rows\n",
    "lego_sets = lego_sets[~lego_sets['set_num'].isnull()]\n",
    "lego_sets.isnull().sum()\n"
   ]
  },
  {
   "cell_type": "code",
   "execution_count": 47,
   "metadata": {},
   "outputs": [
    {
     "data": {
      "text/html": [
       "<div>\n",
       "<style scoped>\n",
       "    .dataframe tbody tr th:only-of-type {\n",
       "        vertical-align: middle;\n",
       "    }\n",
       "\n",
       "    .dataframe tbody tr th {\n",
       "        vertical-align: top;\n",
       "    }\n",
       "\n",
       "    .dataframe thead th {\n",
       "        text-align: right;\n",
       "    }\n",
       "</style>\n",
       "<table border=\"1\" class=\"dataframe\">\n",
       "  <thead>\n",
       "    <tr style=\"text-align: right;\">\n",
       "      <th></th>\n",
       "      <th>set_num</th>\n",
       "      <th>name_x</th>\n",
       "      <th>year</th>\n",
       "      <th>num_parts</th>\n",
       "      <th>theme_name</th>\n",
       "      <th>parent_theme</th>\n",
       "      <th>id</th>\n",
       "      <th>name_y</th>\n",
       "      <th>is_licensed</th>\n",
       "    </tr>\n",
       "  </thead>\n",
       "  <tbody>\n",
       "    <tr>\n",
       "      <th>0</th>\n",
       "      <td>00-1</td>\n",
       "      <td>Weetabix Castle</td>\n",
       "      <td>1970</td>\n",
       "      <td>471.0</td>\n",
       "      <td>Castle</td>\n",
       "      <td>Legoland</td>\n",
       "      <td>411</td>\n",
       "      <td>Legoland</td>\n",
       "      <td>False</td>\n",
       "    </tr>\n",
       "    <tr>\n",
       "      <th>1</th>\n",
       "      <td>0011-2</td>\n",
       "      <td>Town Mini-Figures</td>\n",
       "      <td>1978</td>\n",
       "      <td>NaN</td>\n",
       "      <td>Supplemental</td>\n",
       "      <td>Town</td>\n",
       "      <td>50</td>\n",
       "      <td>Town</td>\n",
       "      <td>False</td>\n",
       "    </tr>\n",
       "    <tr>\n",
       "      <th>2</th>\n",
       "      <td>0011-3</td>\n",
       "      <td>Castle 2 for 1 Bonus Offer</td>\n",
       "      <td>1987</td>\n",
       "      <td>NaN</td>\n",
       "      <td>Lion Knights</td>\n",
       "      <td>Castle</td>\n",
       "      <td>186</td>\n",
       "      <td>Castle</td>\n",
       "      <td>False</td>\n",
       "    </tr>\n",
       "    <tr>\n",
       "      <th>3</th>\n",
       "      <td>0012-1</td>\n",
       "      <td>Space Mini-Figures</td>\n",
       "      <td>1979</td>\n",
       "      <td>12.0</td>\n",
       "      <td>Supplemental</td>\n",
       "      <td>Space</td>\n",
       "      <td>126</td>\n",
       "      <td>Space</td>\n",
       "      <td>False</td>\n",
       "    </tr>\n",
       "    <tr>\n",
       "      <th>4</th>\n",
       "      <td>0013-1</td>\n",
       "      <td>Space Mini-Figures</td>\n",
       "      <td>1979</td>\n",
       "      <td>12.0</td>\n",
       "      <td>Supplemental</td>\n",
       "      <td>Space</td>\n",
       "      <td>126</td>\n",
       "      <td>Space</td>\n",
       "      <td>False</td>\n",
       "    </tr>\n",
       "  </tbody>\n",
       "</table>\n",
       "</div>"
      ],
      "text/plain": [
       "  set_num                      name_x  year  num_parts    theme_name  \\\n",
       "0    00-1             Weetabix Castle  1970      471.0        Castle   \n",
       "1  0011-2           Town Mini-Figures  1978        NaN  Supplemental   \n",
       "2  0011-3  Castle 2 for 1 Bonus Offer  1987        NaN  Lion Knights   \n",
       "3  0012-1          Space Mini-Figures  1979       12.0  Supplemental   \n",
       "4  0013-1          Space Mini-Figures  1979       12.0  Supplemental   \n",
       "\n",
       "  parent_theme   id    name_y  is_licensed  \n",
       "0     Legoland  411  Legoland        False  \n",
       "1         Town   50      Town        False  \n",
       "2       Castle  186    Castle        False  \n",
       "3        Space  126     Space        False  \n",
       "4        Space  126     Space        False  "
      ]
     },
     "execution_count": 47,
     "metadata": {},
     "output_type": "execute_result"
    }
   ],
   "source": [
    "# merge \n",
    "lego_sets = lego_sets.merge(parent_themes, left_on='parent_theme', right_on='name', how='left')\n",
    "lego_sets.head()"
   ]
  },
  {
   "cell_type": "code",
   "execution_count": 48,
   "metadata": {},
   "outputs": [
    {
     "data": {
      "text/plain": [
       "Index(['set_num', 'set_name', 'year', 'num_parts', 'theme_name',\n",
       "       'parent_theme', 'id', 'is_licensed'],\n",
       "      dtype='object')"
      ]
     },
     "execution_count": 48,
     "metadata": {},
     "output_type": "execute_result"
    }
   ],
   "source": [
    "# renaming columns\n",
    "lego_sets = lego_sets.drop('name_y', axis=1)\n",
    "lego_sets = lego_sets.rename(columns={'name_x':'set_name'})\n",
    "lego_sets.columns"
   ]
  },
  {
   "cell_type": "code",
   "execution_count": 49,
   "metadata": {},
   "outputs": [
    {
     "data": {
      "text/html": [
       "<div>\n",
       "<style scoped>\n",
       "    .dataframe tbody tr th:only-of-type {\n",
       "        vertical-align: middle;\n",
       "    }\n",
       "\n",
       "    .dataframe tbody tr th {\n",
       "        vertical-align: top;\n",
       "    }\n",
       "\n",
       "    .dataframe thead th {\n",
       "        text-align: right;\n",
       "    }\n",
       "</style>\n",
       "<table border=\"1\" class=\"dataframe\">\n",
       "  <thead>\n",
       "    <tr style=\"text-align: right;\">\n",
       "      <th></th>\n",
       "      <th>set_num</th>\n",
       "      <th>set_name</th>\n",
       "      <th>year</th>\n",
       "      <th>num_parts</th>\n",
       "      <th>theme_name</th>\n",
       "      <th>parent_theme</th>\n",
       "      <th>id</th>\n",
       "      <th>is_licensed</th>\n",
       "    </tr>\n",
       "  </thead>\n",
       "  <tbody>\n",
       "    <tr>\n",
       "      <th>0</th>\n",
       "      <td>00-1</td>\n",
       "      <td>Weetabix Castle</td>\n",
       "      <td>1970</td>\n",
       "      <td>471.0</td>\n",
       "      <td>Castle</td>\n",
       "      <td>Legoland</td>\n",
       "      <td>411</td>\n",
       "      <td>False</td>\n",
       "    </tr>\n",
       "    <tr>\n",
       "      <th>1</th>\n",
       "      <td>0011-2</td>\n",
       "      <td>Town Mini-Figures</td>\n",
       "      <td>1978</td>\n",
       "      <td>NaN</td>\n",
       "      <td>Supplemental</td>\n",
       "      <td>Town</td>\n",
       "      <td>50</td>\n",
       "      <td>False</td>\n",
       "    </tr>\n",
       "    <tr>\n",
       "      <th>2</th>\n",
       "      <td>0011-3</td>\n",
       "      <td>Castle 2 for 1 Bonus Offer</td>\n",
       "      <td>1987</td>\n",
       "      <td>NaN</td>\n",
       "      <td>Lion Knights</td>\n",
       "      <td>Castle</td>\n",
       "      <td>186</td>\n",
       "      <td>False</td>\n",
       "    </tr>\n",
       "    <tr>\n",
       "      <th>3</th>\n",
       "      <td>0012-1</td>\n",
       "      <td>Space Mini-Figures</td>\n",
       "      <td>1979</td>\n",
       "      <td>12.0</td>\n",
       "      <td>Supplemental</td>\n",
       "      <td>Space</td>\n",
       "      <td>126</td>\n",
       "      <td>False</td>\n",
       "    </tr>\n",
       "    <tr>\n",
       "      <th>4</th>\n",
       "      <td>0013-1</td>\n",
       "      <td>Space Mini-Figures</td>\n",
       "      <td>1979</td>\n",
       "      <td>12.0</td>\n",
       "      <td>Supplemental</td>\n",
       "      <td>Space</td>\n",
       "      <td>126</td>\n",
       "      <td>False</td>\n",
       "    </tr>\n",
       "  </tbody>\n",
       "</table>\n",
       "</div>"
      ],
      "text/plain": [
       "  set_num                    set_name  year  num_parts    theme_name  \\\n",
       "0    00-1             Weetabix Castle  1970      471.0        Castle   \n",
       "1  0011-2           Town Mini-Figures  1978        NaN  Supplemental   \n",
       "2  0011-3  Castle 2 for 1 Bonus Offer  1987        NaN  Lion Knights   \n",
       "3  0012-1          Space Mini-Figures  1979       12.0  Supplemental   \n",
       "4  0013-1          Space Mini-Figures  1979       12.0  Supplemental   \n",
       "\n",
       "  parent_theme   id  is_licensed  \n",
       "0     Legoland  411        False  \n",
       "1         Town   50        False  \n",
       "2       Castle  186        False  \n",
       "3        Space  126        False  \n",
       "4        Space  126        False  "
      ]
     },
     "execution_count": 49,
     "metadata": {},
     "output_type": "execute_result"
    }
   ],
   "source": [
    "lego_sets.head()"
   ]
  },
  {
   "cell_type": "code",
   "execution_count": 54,
   "metadata": {},
   "outputs": [
    {
     "data": {
      "text/html": [
       "<div>\n",
       "<style scoped>\n",
       "    .dataframe tbody tr th:only-of-type {\n",
       "        vertical-align: middle;\n",
       "    }\n",
       "\n",
       "    .dataframe tbody tr th {\n",
       "        vertical-align: top;\n",
       "    }\n",
       "\n",
       "    .dataframe thead th {\n",
       "        text-align: right;\n",
       "    }\n",
       "</style>\n",
       "<table border=\"1\" class=\"dataframe\">\n",
       "  <thead>\n",
       "    <tr style=\"text-align: right;\">\n",
       "      <th></th>\n",
       "      <th>set_num</th>\n",
       "      <th>set_name</th>\n",
       "      <th>year</th>\n",
       "      <th>num_parts</th>\n",
       "      <th>theme_name</th>\n",
       "      <th>parent_theme</th>\n",
       "      <th>id</th>\n",
       "      <th>is_licensed</th>\n",
       "    </tr>\n",
       "  </thead>\n",
       "  <tbody>\n",
       "    <tr>\n",
       "      <th>0</th>\n",
       "      <td>00-1</td>\n",
       "      <td>Weetabix Castle</td>\n",
       "      <td>1970</td>\n",
       "      <td>471.0</td>\n",
       "      <td>Castle</td>\n",
       "      <td>Legoland</td>\n",
       "      <td>411</td>\n",
       "      <td>0</td>\n",
       "    </tr>\n",
       "    <tr>\n",
       "      <th>1</th>\n",
       "      <td>0011-2</td>\n",
       "      <td>Town Mini-Figures</td>\n",
       "      <td>1978</td>\n",
       "      <td>NaN</td>\n",
       "      <td>Supplemental</td>\n",
       "      <td>Town</td>\n",
       "      <td>50</td>\n",
       "      <td>0</td>\n",
       "    </tr>\n",
       "    <tr>\n",
       "      <th>2</th>\n",
       "      <td>0011-3</td>\n",
       "      <td>Castle 2 for 1 Bonus Offer</td>\n",
       "      <td>1987</td>\n",
       "      <td>NaN</td>\n",
       "      <td>Lion Knights</td>\n",
       "      <td>Castle</td>\n",
       "      <td>186</td>\n",
       "      <td>0</td>\n",
       "    </tr>\n",
       "    <tr>\n",
       "      <th>3</th>\n",
       "      <td>0012-1</td>\n",
       "      <td>Space Mini-Figures</td>\n",
       "      <td>1979</td>\n",
       "      <td>12.0</td>\n",
       "      <td>Supplemental</td>\n",
       "      <td>Space</td>\n",
       "      <td>126</td>\n",
       "      <td>0</td>\n",
       "    </tr>\n",
       "    <tr>\n",
       "      <th>4</th>\n",
       "      <td>0013-1</td>\n",
       "      <td>Space Mini-Figures</td>\n",
       "      <td>1979</td>\n",
       "      <td>12.0</td>\n",
       "      <td>Supplemental</td>\n",
       "      <td>Space</td>\n",
       "      <td>126</td>\n",
       "      <td>0</td>\n",
       "    </tr>\n",
       "  </tbody>\n",
       "</table>\n",
       "</div>"
      ],
      "text/plain": [
       "  set_num                    set_name  year  num_parts    theme_name  \\\n",
       "0    00-1             Weetabix Castle  1970      471.0        Castle   \n",
       "1  0011-2           Town Mini-Figures  1978        NaN  Supplemental   \n",
       "2  0011-3  Castle 2 for 1 Bonus Offer  1987        NaN  Lion Knights   \n",
       "3  0012-1          Space Mini-Figures  1979       12.0  Supplemental   \n",
       "4  0013-1          Space Mini-Figures  1979       12.0  Supplemental   \n",
       "\n",
       "  parent_theme   id is_licensed  \n",
       "0     Legoland  411           0  \n",
       "1         Town   50           0  \n",
       "2       Castle  186           0  \n",
       "3        Space  126           0  \n",
       "4        Space  126           0  "
      ]
     },
     "execution_count": 54,
     "metadata": {},
     "output_type": "execute_result"
    }
   ],
   "source": [
    "# renaming is_licensed values\n",
    "lego_sets['is_licensed'] = lego_sets['is_licensed'].replace([True, False], ['1','0'])\n",
    "lego_sets.head()"
   ]
  },
  {
   "cell_type": "code",
   "execution_count": 65,
   "metadata": {},
   "outputs": [
    {
     "data": {
      "text/plain": [
       "([<matplotlib.patches.Wedge at 0x1fa85a408b0>,\n",
       "  <matplotlib.patches.Wedge at 0x1fa85a40fa0>],\n",
       " [Text(-1.141690407956075, 0.369517269394938, 'Not Licensed'),\n",
       "  Text(1.1416903993068988, -0.36951729611813044, 'Licensed')],\n",
       " [Text(-0.6659860713077104, 0.2155517404803805, '90.0%'),\n",
       "  Text(0.6659860662623576, -0.2155517560689094, '10.0%')])"
      ]
     },
     "execution_count": 65,
     "metadata": {},
     "output_type": "execute_result"
    },
    {
     "data": {
      "image/png": "[encoded data removed]",
      "text/plain": [
       "<Figure size 432x288 with 1 Axes>"
      ]
     },
     "metadata": {},
     "output_type": "display_data"
    }
   ],
   "source": [
    "license_labels = {'1':'Licensed', '0':'Not Licensed'}\n",
    "explode = (0.1,0.1)\n",
    "licensed_pie_data=lego_sets['is_licensed'].map(license_labels).value_counts()\n",
    "plt.pie(licensed_pie_data, labels=licensed_pie_data.index, autopct='%1.1f%%', explode=explode)"
   ]
  },
  {
   "cell_type": "code",
   "execution_count": 66,
   "metadata": {},
   "outputs": [
    {
     "data": {
      "text/html": [
       "<div>\n",
       "<style scoped>\n",
       "    .dataframe tbody tr th:only-of-type {\n",
       "        vertical-align: middle;\n",
       "    }\n",
       "\n",
       "    .dataframe tbody tr th {\n",
       "        vertical-align: top;\n",
       "    }\n",
       "\n",
       "    .dataframe thead th {\n",
       "        text-align: right;\n",
       "    }\n",
       "</style>\n",
       "<table border=\"1\" class=\"dataframe\">\n",
       "  <thead>\n",
       "    <tr style=\"text-align: right;\">\n",
       "      <th></th>\n",
       "      <th>set_num</th>\n",
       "      <th>set_name</th>\n",
       "      <th>year</th>\n",
       "      <th>num_parts</th>\n",
       "      <th>theme_name</th>\n",
       "      <th>parent_theme</th>\n",
       "      <th>id</th>\n",
       "      <th>is_licensed</th>\n",
       "    </tr>\n",
       "  </thead>\n",
       "  <tbody>\n",
       "    <tr>\n",
       "      <th>44</th>\n",
       "      <td>10018-1</td>\n",
       "      <td>Darth Maul</td>\n",
       "      <td>2001</td>\n",
       "      <td>1868.0</td>\n",
       "      <td>Star Wars</td>\n",
       "      <td>Star Wars</td>\n",
       "      <td>158</td>\n",
       "      <td>1</td>\n",
       "    </tr>\n",
       "    <tr>\n",
       "      <th>45</th>\n",
       "      <td>10019-1</td>\n",
       "      <td>Rebel Blockade Runner - UCS</td>\n",
       "      <td>2001</td>\n",
       "      <td>NaN</td>\n",
       "      <td>Star Wars Episode 4/5/6</td>\n",
       "      <td>Star Wars</td>\n",
       "      <td>158</td>\n",
       "      <td>1</td>\n",
       "    </tr>\n",
       "    <tr>\n",
       "      <th>54</th>\n",
       "      <td>10026-1</td>\n",
       "      <td>Naboo Starfighter - UCS</td>\n",
       "      <td>2002</td>\n",
       "      <td>NaN</td>\n",
       "      <td>Star Wars Episode 1</td>\n",
       "      <td>Star Wars</td>\n",
       "      <td>158</td>\n",
       "      <td>1</td>\n",
       "    </tr>\n",
       "    <tr>\n",
       "      <th>57</th>\n",
       "      <td>10030-1</td>\n",
       "      <td>Imperial Star Destroyer - UCS</td>\n",
       "      <td>2002</td>\n",
       "      <td>3115.0</td>\n",
       "      <td>Star Wars Episode 4/5/6</td>\n",
       "      <td>Star Wars</td>\n",
       "      <td>158</td>\n",
       "      <td>1</td>\n",
       "    </tr>\n",
       "    <tr>\n",
       "      <th>116</th>\n",
       "      <td>10123-1</td>\n",
       "      <td>Cloud City</td>\n",
       "      <td>2003</td>\n",
       "      <td>707.0</td>\n",
       "      <td>Star Wars Episode 4/5/6</td>\n",
       "      <td>Star Wars</td>\n",
       "      <td>158</td>\n",
       "      <td>1</td>\n",
       "    </tr>\n",
       "    <tr>\n",
       "      <th>...</th>\n",
       "      <td>...</td>\n",
       "      <td>...</td>\n",
       "      <td>...</td>\n",
       "      <td>...</td>\n",
       "      <td>...</td>\n",
       "      <td>...</td>\n",
       "      <td>...</td>\n",
       "      <td>...</td>\n",
       "    </tr>\n",
       "    <tr>\n",
       "      <th>11811</th>\n",
       "      <td>VP-12</td>\n",
       "      <td>Star Wars Co-Pack of 7121 and 7151</td>\n",
       "      <td>2000</td>\n",
       "      <td>2.0</td>\n",
       "      <td>Star Wars Episode 1</td>\n",
       "      <td>Star Wars</td>\n",
       "      <td>158</td>\n",
       "      <td>1</td>\n",
       "    </tr>\n",
       "    <tr>\n",
       "      <th>11816</th>\n",
       "      <td>VP-2</td>\n",
       "      <td>Star Wars Co-Pack of 7110 and 7144</td>\n",
       "      <td>2001</td>\n",
       "      <td>2.0</td>\n",
       "      <td>Star Wars Episode 4/5/6</td>\n",
       "      <td>Star Wars</td>\n",
       "      <td>158</td>\n",
       "      <td>1</td>\n",
       "    </tr>\n",
       "    <tr>\n",
       "      <th>11817</th>\n",
       "      <td>VP-3</td>\n",
       "      <td>Star Wars Co-Pack of 7131 and 7151</td>\n",
       "      <td>2000</td>\n",
       "      <td>2.0</td>\n",
       "      <td>Star Wars Episode 1</td>\n",
       "      <td>Star Wars</td>\n",
       "      <td>158</td>\n",
       "      <td>1</td>\n",
       "    </tr>\n",
       "    <tr>\n",
       "      <th>11818</th>\n",
       "      <td>VP-4</td>\n",
       "      <td>Star Wars Co-Pack of 7101 7111 and 7171</td>\n",
       "      <td>2000</td>\n",
       "      <td>3.0</td>\n",
       "      <td>Star Wars Episode 1</td>\n",
       "      <td>Star Wars</td>\n",
       "      <td>158</td>\n",
       "      <td>1</td>\n",
       "    </tr>\n",
       "    <tr>\n",
       "      <th>11822</th>\n",
       "      <td>VP-8</td>\n",
       "      <td>Star Wars Co-Pack of 7130 and 7150</td>\n",
       "      <td>2000</td>\n",
       "      <td>NaN</td>\n",
       "      <td>Star Wars Episode 4/5/6</td>\n",
       "      <td>Star Wars</td>\n",
       "      <td>158</td>\n",
       "      <td>1</td>\n",
       "    </tr>\n",
       "  </tbody>\n",
       "</table>\n",
       "<p>609 rows × 8 columns</p>\n",
       "</div>"
      ],
      "text/plain": [
       "       set_num                                 set_name  year  num_parts  \\\n",
       "44     10018-1                               Darth Maul  2001     1868.0   \n",
       "45     10019-1              Rebel Blockade Runner - UCS  2001        NaN   \n",
       "54     10026-1                  Naboo Starfighter - UCS  2002        NaN   \n",
       "57     10030-1            Imperial Star Destroyer - UCS  2002     3115.0   \n",
       "116    10123-1                               Cloud City  2003      707.0   \n",
       "...        ...                                      ...   ...        ...   \n",
       "11811    VP-12       Star Wars Co-Pack of 7121 and 7151  2000        2.0   \n",
       "11816     VP-2       Star Wars Co-Pack of 7110 and 7144  2001        2.0   \n",
       "11817     VP-3       Star Wars Co-Pack of 7131 and 7151  2000        2.0   \n",
       "11818     VP-4  Star Wars Co-Pack of 7101 7111 and 7171  2000        3.0   \n",
       "11822     VP-8       Star Wars Co-Pack of 7130 and 7150  2000        NaN   \n",
       "\n",
       "                    theme_name parent_theme   id is_licensed  \n",
       "44                   Star Wars    Star Wars  158           1  \n",
       "45     Star Wars Episode 4/5/6    Star Wars  158           1  \n",
       "54         Star Wars Episode 1    Star Wars  158           1  \n",
       "57     Star Wars Episode 4/5/6    Star Wars  158           1  \n",
       "116    Star Wars Episode 4/5/6    Star Wars  158           1  \n",
       "...                        ...          ...  ...         ...  \n",
       "11811      Star Wars Episode 1    Star Wars  158           1  \n",
       "11816  Star Wars Episode 4/5/6    Star Wars  158           1  \n",
       "11817      Star Wars Episode 1    Star Wars  158           1  \n",
       "11818      Star Wars Episode 1    Star Wars  158           1  \n",
       "11822  Star Wars Episode 4/5/6    Star Wars  158           1  \n",
       "\n",
       "[609 rows x 8 columns]"
      ]
     },
     "execution_count": 66,
     "metadata": {},
     "output_type": "execute_result"
    }
   ],
   "source": [
    "licensed_sets = lego_sets[lego_sets['is_licensed'] == '1']\n",
    "licensed_sets_sw = licensed_sets[licensed_sets['parent_theme'] == 'Star Wars']\n"
   ]
  },
  {
   "cell_type": "code",
   "execution_count": 80,
   "metadata": {},
   "outputs": [
    {
     "name": "stdout",
     "output_type": "stream",
     "text": [
      "51.653944020356235\n"
     ]
    },
    {
     "data": {
      "image/png": "[encoded data removed]",
      "text/plain": [
       "<Figure size 432x288 with 1 Axes>"
      ]
     },
     "metadata": {},
     "output_type": "display_data"
    }
   ],
   "source": [
    "# solution to question 1\n",
    "license_labels_sw = {'1':'Star Wars Licensed', '0':'Non Star Wars Licensed'}\n",
    "explode = (0.05,0.05)\n",
    "licensed_sets_sw_data=licensed_sets['parent_theme'].apply(lambda x: x=='Star Wars' and '1' or '0').map(license_labels_sw).value_counts()\n",
    "plt.pie(licensed_sets_sw_data, labels=licensed_sets_sw_data.index, autopct='%1.1f%%', explode=explode)\n",
    "print(licensed_sets_sw_data['Star Wars Licensed']/licensed_sets['is_licensed'].shape[0]*100)"
   ]
  },
  {
   "cell_type": "code",
   "execution_count": 101,
   "metadata": {},
   "outputs": [
    {
     "data": {
      "text/html": [
       "<div>\n",
       "<style scoped>\n",
       "    .dataframe tbody tr th:only-of-type {\n",
       "        vertical-align: middle;\n",
       "    }\n",
       "\n",
       "    .dataframe tbody tr th {\n",
       "        vertical-align: top;\n",
       "    }\n",
       "\n",
       "    .dataframe thead th {\n",
       "        text-align: right;\n",
       "    }\n",
       "</style>\n",
       "<table border=\"1\" class=\"dataframe\">\n",
       "  <thead>\n",
       "    <tr style=\"text-align: right;\">\n",
       "      <th></th>\n",
       "      <th>year</th>\n",
       "      <th>set_num</th>\n",
       "      <th>parent_theme</th>\n",
       "    </tr>\n",
       "  </thead>\n",
       "  <tbody>\n",
       "    <tr>\n",
       "      <th>18</th>\n",
       "      <td>2017</td>\n",
       "      <td>72</td>\n",
       "      <td>Super Heroes</td>\n",
       "    </tr>\n",
       "  </tbody>\n",
       "</table>\n",
       "</div>"
      ],
      "text/plain": [
       "    year  set_num  parent_theme\n",
       "18  2017       72  Super Heroes"
      ]
     },
     "execution_count": 101,
     "metadata": {},
     "output_type": "execute_result"
    }
   ],
   "source": [
    "# solution to question 2\n",
    "# year wise set_name grouping\n",
    "count_licensed_sets_by_year = licensed_sets.groupby(['year', 'parent_theme'])['set_num'].count().reset_index(['year', 'parent_theme']).sort_values(by=['year', 'set_num'])\n",
    "max_sets_by_year = count_licensed_sets_by_year.groupby('year')['set_num'].max().reset_index('year')\n",
    "max_sets_by_year = max_sets_by_year.merge(count_licensed_sets_by_year, on=['year', 'set_num'], how='left')\n",
    "max_sets_by_year[max_sets_by_year['parent_theme']!='Star Wars']"
   ]
  },
  {
   "cell_type": "code",
   "execution_count": 124,
   "metadata": {},
   "outputs": [
    {
     "data": {
      "text/html": [
       "<div>\n",
       "<style scoped>\n",
       "    .dataframe tbody tr th:only-of-type {\n",
       "        vertical-align: middle;\n",
       "    }\n",
       "\n",
       "    .dataframe tbody tr th {\n",
       "        vertical-align: top;\n",
       "    }\n",
       "\n",
       "    .dataframe thead th {\n",
       "        text-align: right;\n",
       "    }\n",
       "</style>\n",
       "<table border=\"1\" class=\"dataframe\">\n",
       "  <thead>\n",
       "    <tr style=\"text-align: right;\">\n",
       "      <th></th>\n",
       "      <th>year</th>\n",
       "      <th>set_num</th>\n",
       "    </tr>\n",
       "  </thead>\n",
       "  <tbody>\n",
       "    <tr>\n",
       "      <th>35</th>\n",
       "      <td>1987</td>\n",
       "      <td>102</td>\n",
       "    </tr>\n",
       "  </tbody>\n",
       "</table>\n",
       "</div>"
      ],
      "text/plain": [
       "    year  set_num\n",
       "35  1987      102"
      ]
     },
     "execution_count": 124,
     "metadata": {},
     "output_type": "execute_result"
    },
    {
     "data": {
      "image/png": "[encoded data removed]",
      "text/plain": [
       "<Figure size 720x720 with 1 Axes>"
      ]
     },
     "metadata": {
      "needs_background": "light"
     },
     "output_type": "display_data"
    }
   ],
   "source": [
    "# bonus question 1 : which year had most unique sets released ?\n",
    "count_sets_by_year = lego_sets.groupby(['year', 'parent_theme'])['set_num'].count().reset_index(['year', 'parent_theme']).sort_values(by=['year', 'set_num'])\n",
    "count_max_sets_by_year = count_sets_by_year.groupby('year')['set_num'].max().reset_index()\n",
    "plt.figure(figsize=(10,10))\n",
    "plt.bar(count_max_sets_by_year['year'], count_max_sets_by_year['set_num'])\n",
    "years_with_max_unique_sets = count_max_sets_by_year[count_max_sets_by_year['set_num'] == count_max_sets_by_year['set_num'].max()]\n",
    "years_with_max_unique_sets"
   ]
  },
  {
   "cell_type": "code",
   "execution_count": 125,
   "metadata": {},
   "outputs": [
    {
     "data": {
      "text/html": [
       "<div>\n",
       "<style scoped>\n",
       "    .dataframe tbody tr th:only-of-type {\n",
       "        vertical-align: middle;\n",
       "    }\n",
       "\n",
       "    .dataframe tbody tr th {\n",
       "        vertical-align: top;\n",
       "    }\n",
       "\n",
       "    .dataframe thead th {\n",
       "        text-align: right;\n",
       "    }\n",
       "</style>\n",
       "<table border=\"1\" class=\"dataframe\">\n",
       "  <thead>\n",
       "    <tr style=\"text-align: right;\">\n",
       "      <th></th>\n",
       "      <th>year</th>\n",
       "      <th>set_num</th>\n",
       "    </tr>\n",
       "  </thead>\n",
       "  <tbody>\n",
       "    <tr>\n",
       "      <th>62</th>\n",
       "      <td>2014</td>\n",
       "      <td>715</td>\n",
       "    </tr>\n",
       "  </tbody>\n",
       "</table>\n",
       "</div>"
      ],
      "text/plain": [
       "    year  set_num\n",
       "62  2014      715"
      ]
     },
     "execution_count": 125,
     "metadata": {},
     "output_type": "execute_result"
    },
    {
     "data": {
      "image/png": "[encoded data removed]",
      "text/plain": [
       "<Figure size 720x720 with 1 Axes>"
      ]
     },
     "metadata": {
      "needs_background": "light"
     },
     "output_type": "display_data"
    }
   ],
   "source": [
    "# bonus question 2 : which year had most sets released ?\n",
    "count_sets_by_year = lego_sets.groupby(['year', 'parent_theme'])['set_num'].count().reset_index(['year', 'parent_theme']).sort_values(by=['year', 'set_num'])\n",
    "count_total_sets_by_year = count_sets_by_year.groupby('year')['set_num'].sum().reset_index()\n",
    "plt.figure(figsize=(10,10))\n",
    "plt.bar(count_total_sets_by_year['year'], count_total_sets_by_year['set_num'])\n",
    "count_max_total_sets_by_year = count_total_sets_by_year[count_total_sets_by_year['set_num'] == count_total_sets_by_year['set_num'].max()]\n",
    "count_max_total_sets_by_year"
   ]
  },
  {
   "cell_type": "code",
   "execution_count": null,
   "metadata": {},
   "outputs": [],
   "source": []
  }
 ],
 "metadata": {
  "interpreter": {
   "hash": "7abc28b1ae334bfcdefbc37814fb028e04c3f219467c51513a5ede71a1a5d5a3"
  },
  "kernelspec": {
   "display_name": "Python 3.8.6 64-bit",
   "language": "python",
   "name": "python3"
  },
  "language_info": {
   "codemirror_mode": {
    "name": "ipython",
    "version": 3
   },
   "file_extension": ".py",
   "mimetype": "text/x-python",
   "name": "python",
   "nbconvert_exporter": "python",
   "pygments_lexer": "ipython3",
   "version": "3.8.6"
  },
  "orig_nbformat": 4
 },
 "nbformat": 4,
 "nbformat_minor": 2
}
